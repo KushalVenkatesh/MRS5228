{
 "cells": [
  {
   "cell_type": "code",
   "execution_count": 4,
   "metadata": {
    "collapsed": false
   },
   "outputs": [
    {
     "name": "stdout",
     "output_type": "stream",
     "text": [
      "Number of compared products 126\n"
     ]
    }
   ],
   "source": [
    "# %load item-item.py\n",
    "import pandas as pd\n",
    "import numpy as np\n",
    "from scipy import spatial\n",
    "\n",
    "number_of_data_sets = 1\n",
    "data_sets_dir = 'data/sets/'\n",
    "k = 5\n",
    "\n",
    "################################################################################\n",
    "# self defined helper functions\n",
    "################################################################################\n",
    "# compute centered cosine similarity\n",
    "# between two pandas.Series\n",
    "def calc_sim(s1, s2):\n",
    "    def get_norm(s):\n",
    "        return (s - s.mean()).fillna(0)\n",
    "\n",
    "    norm_s1 = get_norm(s1)\n",
    "    norm_s2 = get_norm(s2)\n",
    "\n",
    "    if norm_s1.dot(norm_s2) == 0:\n",
    "        result = 0\n",
    "    else:\n",
    "        result = 1 - spatial.distance.cosine(norm_s1, norm_s2)\n",
    "    return result\n",
    "\n",
    "# get one user ratings for a variaties of product in knn\n",
    "def get_user_ratings(user_df, knn):\n",
    "    s = pd.Series(data=user_df.review_score.values, index=user_df.product_productid)\n",
    "    return s.loc[knn.index]\n",
    "################################################################################\n",
    "# end of functions\n",
    "################################################################################\n",
    "\n",
    "# loop throught data sets\n",
    "i = 0\n",
    "\n",
    "test_file = data_sets_dir + str(i) + '/test.csv'\n",
    "train_file = data_sets_dir + str(i) + '/train.csv'\n",
    "# load test and train data\n",
    "test_df = pd.read_csv(test_file)\n",
    "train_df = pd.read_csv(train_file)\n",
    "test_productid_array = test_df.product_productid.unique()\n",
    "square_errors_array = []\n",
    "target_productid = test_productid_array[0]\n",
    "# check whether this product id exists\n",
    "if not target_productid in train_df.product_productid.unique():\n",
    "    print 'Cannot find product in data with id: ' + target_productid\n",
    "    exit()\n",
    "# get products with which have common reviewers\n",
    "# instead of looping through all other products\n",
    "# to improve performance\n",
    "common_reviewers = train_df[train_df.product_productid == target_productid].review_userid\n",
    "productid_array = train_df[train_df.review_userid.isin(common_reviewers)].product_productid.unique()\n",
    "print 'Number of compared products', len(productid_array)"
   ]
  },
  {
   "cell_type": "code",
   "execution_count": 6,
   "metadata": {
    "collapsed": true
   },
   "outputs": [],
   "source": [
    "result_sim = pd.Series()\n",
    "for productid in productid_array:\n",
    "    df = train_df[train_df.product_productid.isin([target_productid, productid])]\n",
    "    # convert to pivot table to simplify calculation\n",
    "    table = pd.pivot_table(\n",
    "        df,\n",
    "        values='review_score',\n",
    "        index=['review_userid'],\n",
    "        columns=['product_productid']\n",
    "    )\n",
    "\n",
    "    # calculate the similarity and store the result\n",
    "    similarity = calc_sim(table[target_productid], table[productid])\n",
    "    result_sim.set_value(productid, similarity)\n",
    "\n",
    "# drop the target product\n",
    "result_sim = result_sim.drop(target_productid)"
   ]
  },
  {
   "cell_type": "code",
   "execution_count": 20,
   "metadata": {
    "collapsed": false
   },
   "outputs": [
    {
     "data": {
      "text/plain": [
       "B00006HB30    0.972518\n",
       "B00074DXEE    0.038429\n",
       "B000FUTUYC    0.015663\n",
       "B0007OP2CU    0.015045\n",
       "B000M7FSSA    0.000000\n",
       "dtype: float64"
      ]
     },
     "execution_count": 20,
     "metadata": {},
     "output_type": "execute_result"
    }
   ],
   "source": [
    "userid = test_df[test_df.product_productid == target_productid].review_userid.unique()[1]\n",
    "# find knn for this user\n",
    "rated_items = train_df[train_df.review_userid == userid].product_productid.unique()\n",
    "knn = result_sim.get(rated_items).sort_values(ascending=False)[:k]\n",
    "\n",
    "# predict the rating\n",
    "sim_weights = knn / knn.sum()\n",
    "user_df = train_df[train_df.review_userid == userid]\n",
    "user_ratings = get_user_ratings(user_df, knn)\n",
    "\n",
    "predict_rating = sim_weights.dot(user_ratings)\n",
    "\n",
    "# compute error\n",
    "actual_rating = test_df[(test_df.product_productid == target_productid) & (test_df.review_userid == userid)].review_score.values[0]\n",
    "square_errors_array.append(np.square(predict_rating - actual_rating))\n",
    "\n",
    "result_sim.get(rated_items).sort_values(ascending=False)[:k].fillna(0)"
   ]
  }
 ],
 "metadata": {
  "kernelspec": {
   "display_name": "Python 2",
   "language": "python",
   "name": "python2"
  },
  "language_info": {
   "codemirror_mode": {
    "name": "ipython",
    "version": 2
   },
   "file_extension": ".py",
   "mimetype": "text/x-python",
   "name": "python",
   "nbconvert_exporter": "python",
   "pygments_lexer": "ipython2",
   "version": "2.7.10"
  }
 },
 "nbformat": 4,
 "nbformat_minor": 0
}
