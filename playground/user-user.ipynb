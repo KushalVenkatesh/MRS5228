{
 "cells": [
  {
   "cell_type": "code",
   "execution_count": 2,
   "metadata": {
    "collapsed": true
   },
   "outputs": [],
   "source": [
    "import pandas as pd\n",
    "import numpy as np\n",
    "from scipy import spatial\n",
    "\n",
    "number_of_data_sets = 10\n",
    "data_sets_dir = '../data/sets/'\n",
    "k = 5\n",
    "\n",
    "i = 0\n",
    "test_file = data_sets_dir + str(i) + '/test.csv'\n",
    "train_file = data_sets_dir + str(i) + '/train.csv'\n",
    "test_df = pd.read_csv(test_file)\n",
    "train_df = pd.read_csv(train_file)"
   ]
  },
  {
   "cell_type": "code",
   "execution_count": 2,
   "metadata": {
    "collapsed": false
   },
   "outputs": [
    {
     "data": {
      "text/plain": [
       "4609"
      ]
     },
     "execution_count": 2,
     "metadata": {},
     "output_type": "execute_result"
    }
   ],
   "source": [
    "target_userid = 'ALX2RTJW3NF0O'\n",
    "common_products = train_df[train_df.review_userid == target_userid].product_productid\n",
    "userid_array = train_df[train_df.product_productid.isin(common_products)].review_userid.unique()\n",
    "len(userid_array)"
   ]
  },
  {
   "cell_type": "code",
   "execution_count": 3,
   "metadata": {
    "collapsed": true
   },
   "outputs": [],
   "source": [
    "def calc_sim(s1, s2):\n",
    "    def get_norm(s):\n",
    "        return (s - s.mean()).fillna(0)\n",
    "\n",
    "    norm_s1 = get_norm(s1)\n",
    "    norm_s2 = get_norm(s2)\n",
    "\n",
    "    if norm_s1.dot(norm_s2) == 0:\n",
    "        result = 0\n",
    "    else:\n",
    "        result = 1 - spatial.distance.cosine(norm_s1, norm_s2)\n",
    "    return result"
   ]
  },
  {
   "cell_type": "code",
   "execution_count": 4,
   "metadata": {
    "collapsed": false
   },
   "outputs": [
    {
     "name": "stdout",
     "output_type": "stream",
     "text": [
      "Number of users processed: 500\n",
      "Number of users processed: 1000\n",
      "Number of users processed: 1500\n",
      "Number of users processed: 2000\n",
      "Number of users processed: 2500\n",
      "Number of users processed: 3000\n",
      "Number of users processed: 3500\n",
      "Number of users processed: 4000\n",
      "Number of users processed: 4500\n"
     ]
    }
   ],
   "source": [
    "result_sim = pd.Series()\n",
    "for index, userid in enumerate(userid_array):\n",
    "    df = train_df[train_df.review_userid.isin([target_userid, userid])]\n",
    "    # convert to pivot table to simplify calculation\n",
    "    table = pd.pivot_table(\n",
    "        df,\n",
    "        values='review_score',\n",
    "        index=['product_productid'],\n",
    "        columns=['review_userid']\n",
    "    )\n",
    "\n",
    "    # calculate the similarity and store the result\n",
    "    similarity = calc_sim(table[target_userid], table[userid])\n",
    "    result_sim.set_value(userid, similarity)\n",
    "    if index > 0 and index % 500 == 0:\n",
    "        print 'Number of users processed: %d' % index\n",
    "result_sim = result_sim.drop(target_userid)"
   ]
  },
  {
   "cell_type": "code",
   "execution_count": 5,
   "metadata": {
    "collapsed": false
   },
   "outputs": [
    {
     "data": {
      "text/plain": [
       "array(['B000063W1R', 'B000JGG6T4', 'B00004XPPG', 'B00061S0QE',\n",
       "       '7883704591', 'B00004RRGB', 'B0007A2GTG', 'B00005R23Y'], dtype=object)"
      ]
     },
     "execution_count": 5,
     "metadata": {},
     "output_type": "execute_result"
    }
   ],
   "source": [
    "test_df[test_df.review_userid == target_userid].product_productid.unique()"
   ]
  },
  {
   "cell_type": "code",
   "execution_count": 6,
   "metadata": {
    "collapsed": false
   },
   "outputs": [
    {
     "data": {
      "text/plain": [
       "A1JUUZAYZCFAI3    0.217597\n",
       "A2PL4GB1S2Q5EK    0.106751\n",
       "A258MSMKY2710V    0.099433\n",
       "A1D2ZN57YG2NMH    0.053544\n",
       "A1FNES0QEBJZD1    0.051649\n",
       "dtype: float64"
      ]
     },
     "execution_count": 6,
     "metadata": {},
     "output_type": "execute_result"
    }
   ],
   "source": [
    "productid = 'B00004XPPG'\n",
    "rated_users = train_df[train_df.product_productid == productid].review_userid.unique()\n",
    "knn = result_sim.get(rated_users).sort_values(ascending=False)[:k].fillna(0)\n",
    "knn"
   ]
  },
  {
   "cell_type": "code",
   "execution_count": 28,
   "metadata": {
    "collapsed": false
   },
   "outputs": [
    {
     "data": {
      "text/plain": [
       "A1JUUZAYZCFAI3    0.411357\n",
       "A2PL4GB1S2Q5EK    0.201807\n",
       "A258MSMKY2710V    0.187973\n",
       "A1D2ZN57YG2NMH    0.101222\n",
       "A1FNES0QEBJZD1    0.097641\n",
       "dtype: float64"
      ]
     },
     "execution_count": 28,
     "metadata": {},
     "output_type": "execute_result"
    }
   ],
   "source": [
    "sim_weights = knn / knn.sum()\n",
    "sim_weights"
   ]
  },
  {
   "cell_type": "code",
   "execution_count": 7,
   "metadata": {
    "collapsed": false
   },
   "outputs": [],
   "source": [
    "def get_user_ratings(df, knn):\n",
    "    s = pd.Series(data=df.review_score.values, index=df.review_userid)\n",
    "    return s.loc[knn.index]"
   ]
  },
  {
   "cell_type": "code",
   "execution_count": 8,
   "metadata": {
    "collapsed": false
   },
   "outputs": [
    {
     "data": {
      "text/plain": [
       "review_userid\n",
       "A1JUUZAYZCFAI3    5\n",
       "A2PL4GB1S2Q5EK    3\n",
       "A2PL4GB1S2Q5EK    5\n",
       "A258MSMKY2710V    4\n",
       "A1D2ZN57YG2NMH    5\n",
       "A1FNES0QEBJZD1    5\n",
       "dtype: float64"
      ]
     },
     "execution_count": 8,
     "metadata": {},
     "output_type": "execute_result"
    }
   ],
   "source": [
    "product_df = train_df[train_df.product_productid == productid]\n",
    "user_ratings = get_user_ratings(product_df, knn)\n",
    "user_ratings"
   ]
  },
  {
   "cell_type": "code",
   "execution_count": 21,
   "metadata": {
    "collapsed": false
   },
   "outputs": [
    {
     "data": {
      "text/html": [
       "<div>\n",
       "<table border=\"1\" class=\"dataframe\">\n",
       "  <thead>\n",
       "    <tr style=\"text-align: right;\">\n",
       "      <th></th>\n",
       "      <th>product_productid</th>\n",
       "      <th>review_userid</th>\n",
       "      <th>review_profilename</th>\n",
       "      <th>review_helpfulness</th>\n",
       "      <th>review_score</th>\n",
       "    </tr>\n",
       "  </thead>\n",
       "  <tbody>\n",
       "    <tr>\n",
       "      <th>1692271</th>\n",
       "      <td>B00004XPPG</td>\n",
       "      <td>A2PL4GB1S2Q5EK</td>\n",
       "      <td>Deborah G. Hall</td>\n",
       "      <td>2/2</td>\n",
       "      <td>3</td>\n",
       "    </tr>\n",
       "    <tr>\n",
       "      <th>1692294</th>\n",
       "      <td>B00004XPPG</td>\n",
       "      <td>A2PL4GB1S2Q5EK</td>\n",
       "      <td>Deborah G. Hall</td>\n",
       "      <td>7/13</td>\n",
       "      <td>5</td>\n",
       "    </tr>\n",
       "  </tbody>\n",
       "</table>\n",
       "</div>"
      ],
      "text/plain": [
       "        product_productid   review_userid review_profilename  \\\n",
       "1692271        B00004XPPG  A2PL4GB1S2Q5EK    Deborah G. Hall   \n",
       "1692294        B00004XPPG  A2PL4GB1S2Q5EK    Deborah G. Hall   \n",
       "\n",
       "        review_helpfulness  review_score  \n",
       "1692271                2/2             3  \n",
       "1692294               7/13             5  "
      ]
     },
     "execution_count": 21,
     "metadata": {},
     "output_type": "execute_result"
    }
   ],
   "source": [
    "product_df[product_df.review_userid == 'A2PL4GB1S2Q5EK']"
   ]
  },
  {
   "cell_type": "code",
   "execution_count": 30,
   "metadata": {
    "collapsed": false
   },
   "outputs": [
    {
     "data": {
      "text/html": [
       "<div>\n",
       "<table border=\"1\" class=\"dataframe\">\n",
       "  <thead>\n",
       "    <tr style=\"text-align: right;\">\n",
       "      <th></th>\n",
       "      <th>review_score</th>\n",
       "    </tr>\n",
       "  </thead>\n",
       "  <tbody>\n",
       "    <tr>\n",
       "      <th>A1JUUZAYZCFAI3</th>\n",
       "      <td>5</td>\n",
       "    </tr>\n",
       "    <tr>\n",
       "      <th>A2PL4GB1S2Q5EK</th>\n",
       "      <td>4</td>\n",
       "    </tr>\n",
       "    <tr>\n",
       "      <th>A258MSMKY2710V</th>\n",
       "      <td>4</td>\n",
       "    </tr>\n",
       "    <tr>\n",
       "      <th>A1D2ZN57YG2NMH</th>\n",
       "      <td>5</td>\n",
       "    </tr>\n",
       "    <tr>\n",
       "      <th>A1FNES0QEBJZD1</th>\n",
       "      <td>5</td>\n",
       "    </tr>\n",
       "  </tbody>\n",
       "</table>\n",
       "</div>"
      ],
      "text/plain": [
       "                review_score\n",
       "A1JUUZAYZCFAI3             5\n",
       "A2PL4GB1S2Q5EK             4\n",
       "A258MSMKY2710V             4\n",
       "A1D2ZN57YG2NMH             5\n",
       "A1FNES0QEBJZD1             5"
      ]
     },
     "execution_count": 30,
     "metadata": {},
     "output_type": "execute_result"
    }
   ],
   "source": [
    "user_ratings = product_df.groupby('review_userid').mean().loc[knn.index]\n",
    "user_ratings"
   ]
  },
  {
   "cell_type": "code",
   "execution_count": 31,
   "metadata": {
    "collapsed": false
   },
   "outputs": [
    {
     "data": {
      "text/plain": [
       "review_score    4.61022\n",
       "dtype: float64"
      ]
     },
     "execution_count": 31,
     "metadata": {},
     "output_type": "execute_result"
    }
   ],
   "source": [
    "sim_weights.dot(user_ratings)"
   ]
  }
 ],
 "metadata": {
  "kernelspec": {
   "display_name": "Python 2",
   "language": "python",
   "name": "python2"
  },
  "language_info": {
   "codemirror_mode": {
    "name": "ipython",
    "version": 2
   },
   "file_extension": ".py",
   "mimetype": "text/x-python",
   "name": "python",
   "nbconvert_exporter": "python",
   "pygments_lexer": "ipython2",
   "version": "2.7.10"
  }
 },
 "nbformat": 4,
 "nbformat_minor": 0
}
