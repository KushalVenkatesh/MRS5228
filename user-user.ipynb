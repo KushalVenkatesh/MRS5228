{
 "cells": [
  {
   "cell_type": "code",
   "execution_count": 1,
   "metadata": {
    "collapsed": true
   },
   "outputs": [],
   "source": [
    "import pandas as pd\n",
    "import numpy as np\n",
    "from scipy import spatial\n",
    "\n",
    "number_of_data_sets = 10\n",
    "data_sets_dir = 'data/sets/'\n",
    "k = 5\n",
    "\n",
    "i = 0\n",
    "test_file = data_sets_dir + str(i) + '/test.csv'\n",
    "train_file = data_sets_dir + str(i) + '/train.csv'\n",
    "test_df = pd.read_csv(test_file)\n",
    "train_df = pd.read_csv(train_file)"
   ]
  },
  {
   "cell_type": "code",
   "execution_count": 4,
   "metadata": {
    "collapsed": true
   },
   "outputs": [],
   "source": [
    "target_userid = 'A3Q4S5DFVPB70D'\n",
    "common_products = train_df[train_df.review_userid == target_userid].product_productid\n",
    "userid_array = train_df[train_df.product_productid.isin(common_products)].review_userid.unique()"
   ]
  },
  {
   "cell_type": "code",
   "execution_count": 5,
   "metadata": {
    "collapsed": true
   },
   "outputs": [],
   "source": [
    "def calc_sim(s1, s2):\n",
    "    def get_norm(s):\n",
    "        return (s - s.mean()).fillna(0)\n",
    "\n",
    "    norm_s1 = get_norm(s1)\n",
    "    norm_s2 = get_norm(s2)\n",
    "\n",
    "    if norm_s1.dot(norm_s2) == 0:\n",
    "        result = 0\n",
    "    else:\n",
    "        result = 1 - spatial.distance.cosine(norm_s1, norm_s2)\n",
    "    return result"
   ]
  },
  {
   "cell_type": "code",
   "execution_count": 6,
   "metadata": {
    "collapsed": false
   },
   "outputs": [],
   "source": [
    "result_sim = pd.Series()\n",
    "for index, userid in enumerate(userid_array):\n",
    "    df = train_df[train_df.review_userid.isin([target_userid, userid])]\n",
    "    # convert to pivot table to simplify calculation\n",
    "    table = pd.pivot_table(\n",
    "        df,\n",
    "        values='review_score',\n",
    "        index=['product_productid'],\n",
    "        columns=['review_userid']\n",
    "    )\n",
    "\n",
    "    # calculate the similarity and store the result\n",
    "    similarity = calc_sim(table[target_userid], table[userid])\n",
    "    result_sim.set_value(userid, similarity)\n",
    "result_sim = result_sim.drop(target_userid)"
   ]
  },
  {
   "cell_type": "code",
   "execution_count": 8,
   "metadata": {
    "collapsed": false
   },
   "outputs": [],
   "source": [
    "productid = 'B00006HAXW'\n",
    "rated_users = train_df[train_df.product_productid == productid].review_userid.unique()\n",
    "knn = result_sim.get(rated_users).sort_values(ascending=False)[:k].fillna(0)"
   ]
  },
  {
   "cell_type": "code",
   "execution_count": 14,
   "metadata": {
    "collapsed": false
   },
   "outputs": [
    {
     "data": {
      "text/plain": [
       "array(['AD4CDZK7D31XP', 'A3Q4S5DFVPB70D', 'A2P7UB02HAVEPB',\n",
       "       'A2TX99AZKDK0V7', 'A1FRPGQYQTAOR1', 'A1RSDE90N6RSZF',\n",
       "       'A1OUBOGB5970AO', 'A3NPHQVIY59Y0Y', 'AFKMBAY28XO8A',\n",
       "       'A66KMXH9V7OGU', 'AFJ27ZV9183B8', 'AXMKAXC0TR9AW'], dtype=object)"
      ]
     },
     "execution_count": 14,
     "metadata": {},
     "output_type": "execute_result"
    }
   ],
   "source": [
    "userid_array"
   ]
  },
  {
   "cell_type": "code",
   "execution_count": 19,
   "metadata": {
    "collapsed": false
   },
   "outputs": [
    {
     "data": {
      "text/html": [
       "<div>\n",
       "<table border=\"1\" class=\"dataframe\">\n",
       "  <thead>\n",
       "    <tr style=\"text-align: right;\">\n",
       "      <th></th>\n",
       "      <th>product_productid</th>\n",
       "      <th>review_userid</th>\n",
       "      <th>review_profilename</th>\n",
       "      <th>review_helpfulness</th>\n",
       "      <th>review_score</th>\n",
       "    </tr>\n",
       "  </thead>\n",
       "  <tbody>\n",
       "    <tr>\n",
       "      <th>6757142</th>\n",
       "      <td>B00006HB30</td>\n",
       "      <td>A3Q4S5DFVPB70D</td>\n",
       "      <td>Joseph P. Aiello</td>\n",
       "      <td>26/26</td>\n",
       "      <td>5</td>\n",
       "    </tr>\n",
       "  </tbody>\n",
       "</table>\n",
       "</div>"
      ],
      "text/plain": [
       "        product_productid   review_userid review_profilename  \\\n",
       "6757142        B00006HB30  A3Q4S5DFVPB70D   Joseph P. Aiello   \n",
       "\n",
       "        review_helpfulness  review_score  \n",
       "6757142              26/26             5  "
      ]
     },
     "execution_count": 19,
     "metadata": {},
     "output_type": "execute_result"
    }
   ],
   "source": [
    "train_df[train_df.review_userid == target_userid]"
   ]
  },
  {
   "cell_type": "code",
   "execution_count": 20,
   "metadata": {
    "collapsed": false
   },
   "outputs": [
    {
     "data": {
      "text/html": [
       "<div>\n",
       "<table border=\"1\" class=\"dataframe\">\n",
       "  <thead>\n",
       "    <tr style=\"text-align: right;\">\n",
       "      <th></th>\n",
       "      <th>product_productid</th>\n",
       "      <th>review_userid</th>\n",
       "      <th>review_profilename</th>\n",
       "      <th>review_helpfulness</th>\n",
       "      <th>review_score</th>\n",
       "    </tr>\n",
       "  </thead>\n",
       "  <tbody>\n",
       "    <tr>\n",
       "      <th>0</th>\n",
       "      <td>B00006HAXW</td>\n",
       "      <td>A3Q4S5DFVPB70D</td>\n",
       "      <td>Joseph P. Aiello</td>\n",
       "      <td>26/26</td>\n",
       "      <td>5</td>\n",
       "    </tr>\n",
       "  </tbody>\n",
       "</table>\n",
       "</div>"
      ],
      "text/plain": [
       "  product_productid   review_userid review_profilename review_helpfulness  \\\n",
       "0        B00006HAXW  A3Q4S5DFVPB70D   Joseph P. Aiello              26/26   \n",
       "\n",
       "   review_score  \n",
       "0             5  "
      ]
     },
     "execution_count": 20,
     "metadata": {},
     "output_type": "execute_result"
    }
   ],
   "source": [
    "test_df[test_df.review_userid == target_userid]"
   ]
  }
 ],
 "metadata": {
  "kernelspec": {
   "display_name": "Python 2",
   "language": "python",
   "name": "python2"
  },
  "language_info": {
   "codemirror_mode": {
    "name": "ipython",
    "version": 2
   },
   "file_extension": ".py",
   "mimetype": "text/x-python",
   "name": "python",
   "nbconvert_exporter": "python",
   "pygments_lexer": "ipython2",
   "version": "2.7.10"
  }
 },
 "nbformat": 4,
 "nbformat_minor": 0
}
